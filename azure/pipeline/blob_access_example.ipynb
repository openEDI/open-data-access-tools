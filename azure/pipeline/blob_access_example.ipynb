{
 "cells": [
  {
   "cell_type": "code",
   "execution_count": null,
   "metadata": {},
   "outputs": [],
   "source": [
    "# Deleting blobs\n",
    "\n",
    "from azure.storage.blob import ContainerClient\n",
    "from etl_tools import load_oedi_sas\n",
    "\n",
    "sas_token = load_oedi_sas() # Loads oedi rw sas token\n",
    "client = ContainerClient.from_container_url(f'https://nrel.blob.core.windows.net/oedi?{sas_token}')\n",
    "for blob in client.list_blobs():\n",
    "    if \"wtk\" in blob.name and 'test' in blob.name:\n",
    "        print(blob.name)\n",
    "        #client.delete_blob(blob)"
   ]
  },
  {
   "cell_type": "code",
   "execution_count": null,
   "metadata": {},
   "outputs": [],
   "source": [
    "# Copying blobs within Azure\n",
    "\n",
    "source_blob = client.get_blob_client('wtk/wtk_bangladesh_hourly_ref.json')\n",
    "dest_blob = client.get_blob_client('wtk/bangladesh/kerchunk_hourly_ref.json')\n",
    "dest_blob.start_copy_from_url(source_blob.url)"
   ]
  },
  {
   "cell_type": "code",
   "execution_count": null,
   "metadata": {},
   "outputs": [],
   "source": [
    "# Copy objects from S3 into Azure BLOB storage\n",
    "\n",
    "import s3fs\n",
    "from azure.storage.blob import ContainerClient\n",
    "from etl_tools import load_oedi_sas\n",
    "\n",
    "def copy_file_to_azure(source, dest, sas=None, container='oedi'):\n",
    "    s3 = s3fs.S3FileSystem()\n",
    "    if not sas:\n",
    "        sas = load_oedi_sas()\n",
    "\n",
    "    client = ContainerClient.from_container_url(f'https://nrel.blob.core.windows.net/{container}?{sas}')\n",
    "    blob = client.get_blob_client(dest)\n",
    "    with s3.open(source, 'rb') as f:\n",
    "        blob.upload_blob(f.read())\n",
    "\n",
    "copy_file_to_azure('s3://kerchunk-staging/test.txt', 'wtk/test/test.txt')"
   ]
  }
 ],
 "metadata": {
  "kernelspec": {
   "display_name": ".env",
   "language": "python",
   "name": "python3"
  },
  "language_info": {
   "codemirror_mode": {
    "name": "ipython",
    "version": 3
   },
   "file_extension": ".py",
   "mimetype": "text/x-python",
   "name": "python",
   "nbconvert_exporter": "python",
   "pygments_lexer": "ipython3",
   "version": "3.10.12"
  },
  "orig_nbformat": 4
 },
 "nbformat": 4,
 "nbformat_minor": 2
}
