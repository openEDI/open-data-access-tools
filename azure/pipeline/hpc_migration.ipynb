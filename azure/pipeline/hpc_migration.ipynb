{
 "cells": [
  {
   "cell_type": "markdown",
   "metadata": {},
   "source": [
    "In this notebook, we demonstrate how to use this package to migrate h5 data from Eagle to Azure."
   ]
  },
  {
   "cell_type": "markdown",
   "metadata": {},
   "source": [
    "First, we need to identify the files that we want to migrate. On Eagle, data are located in the `/datasets` directory."
   ]
  },
  {
   "cell_type": "code",
   "execution_count": 11,
   "metadata": {},
   "outputs": [
    {
     "name": "stdout",
     "output_type": "stream",
     "text": [
      "Number of files: 2\n"
     ]
    }
   ],
   "source": [
    "from pipeline.hpc_tools import get_dataset\n",
    "\n",
    "dataset = 'WIND/kazakhstan'\n",
    "resolution = '15min'\n",
    "\n",
    "files = get_dataset(dataset, resolution=resolution)\n",
    "\n",
    "print(f'Number of files: {len(files)}')"
   ]
  },
  {
   "cell_type": "markdown",
   "metadata": {},
   "source": [
    "Next, we launch a series of jobs to copy and transform each file in the set."
   ]
  },
  {
   "cell_type": "code",
   "execution_count": 13,
   "metadata": {},
   "outputs": [
    {
     "name": "stdout",
     "output_type": "stream",
     "text": [
      "Starting 1 transformation jobs.\n",
      "Starting job to copy dataset to Azure.\n",
      "Starting job to combine references.\n",
      "All jobs scheduled!\n"
     ]
    }
   ],
   "source": [
    "from pipeline.hpc_tools import process_h5_dataset\n",
    "\n",
    "comb_ref_file = f'/scratch/mheine/{dataset}/kerchunk_{resolution}_ref.json'\n",
    "job_ids = process_h5_dataset(files, comb_ref_file=comb_ref_file)"
   ]
  },
  {
   "cell_type": "markdown",
   "metadata": {},
   "source": [
    "After a run, use scan_err to identify any file transformation jobs that failed."
   ]
  },
  {
   "cell_type": "code",
   "execution_count": 16,
   "metadata": {},
   "outputs": [
    {
     "name": "stdout",
     "output_type": "stream",
     "text": [
      "Timeouts: 1\n",
      "Other errors: 0\n",
      "Total Files: 1\n",
      "The smallest file that timed out in WIND/conus/v1.1.0 was 1537 GB.\n"
     ]
    }
   ],
   "source": [
    "from pipeline.hpc_tools import scan_err\n",
    "dataset = 'WIND/conus/v1.1.0'\n",
    "resolution = 'hourly'\n",
    "files, timeout_redos, other_redos = scan_err(dataset=dataset, resolution=resolution)"
   ]
  },
  {
   "cell_type": "markdown",
   "metadata": {},
   "source": [
    "process_h5_redos allows you to launch a partial job. `files` should be all files in the dataset, and `redos` should be a subset of them that you want to reprocess."
   ]
  },
  {
   "cell_type": "code",
   "execution_count": 17,
   "metadata": {},
   "outputs": [
    {
     "name": "stdout",
     "output_type": "stream",
     "text": [
      "Starting 1 transformation jobs.\n",
      "Starting job to copy dataset to Azure.\n",
      "Starting job to combine references.\n",
      "All jobs scheduled!\n"
     ]
    }
   ],
   "source": [
    "from pipeline.hpc_tools import process_h5_redos\n",
    "\n",
    "comb_ref_file = f'/scratch/mheine/{dataset}/kerchunk_{resolution}_ref.json'\n",
    "job_ids = process_h5_redos(files, timeout_redos + other_redos, comb_ref_file=comb_ref_file)"
   ]
  }
 ],
 "metadata": {
  "kernelspec": {
   "display_name": ".env",
   "language": "python",
   "name": "python3"
  },
  "language_info": {
   "codemirror_mode": {
    "name": "ipython",
    "version": 3
   },
   "file_extension": ".py",
   "mimetype": "text/x-python",
   "name": "python",
   "nbconvert_exporter": "python",
   "pygments_lexer": "ipython3",
   "version": "3.10.12"
  },
  "orig_nbformat": 4
 },
 "nbformat": 4,
 "nbformat_minor": 2
}
