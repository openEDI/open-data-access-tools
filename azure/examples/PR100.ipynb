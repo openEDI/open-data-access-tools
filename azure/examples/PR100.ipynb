{
 "cells": [
  {
   "attachments": {},
   "cell_type": "markdown",
   "metadata": {},
   "source": [
    "## Demo Notebook for Accessing PR100 Data on Azure\n",
    "\n",
    "Launched on February 2, 2022, a two-year study entitled Puerto Rico Grid Resilience and Transitions to 100% Renewable Energy (PR100) will perform a comprehensive analysis of stakeholder-driven pathways to Puerto Rico’s clean energy future. For more information, please visit [https://www.energy.gov/gdo/puerto-rico-grid-resilience-and-transitions-100-renewable-energy-study-pr100].\n",
    "\n",
    "To support the PR100 project, the Open Energy Data Initiative has made an assortment of data sets available for free public access. This notebook will demonstrate how to access the PR100 data located in Azure BLOB storage."
   ]
  },
  {
   "attachments": {},
   "cell_type": "markdown",
   "metadata": {},
   "source": [
    "### Get Access Token\n",
    "\n",
    "You do not need an Azure account to access public data. Instead, you can obtain a temporary access token via the Planetary Computer's API. This can be accomplished via either the requests or planetary_computer libraries. Both options are shown below."
   ]
  },
  {
   "cell_type": "code",
   "execution_count": null,
   "metadata": {},
   "outputs": [],
   "source": [
    "# get a token with requests\n",
    "import requests\n",
    "\n",
    "token = requests.get(\n",
    "    'https://planetarycomputer.microsoft.com/api/sas/v1/token/nrel/oedi'\n",
    ").json()['token']"
   ]
  },
  {
   "cell_type": "code",
   "execution_count": null,
   "metadata": {},
   "outputs": [],
   "source": [
    "# get a token with planetary-computer\n",
    "import planetary_computer\n",
    "\n",
    "token = planetary_computer.sas.get_token('nrel', 'oedi').token\n"
   ]
  },
  {
   "attachments": {},
   "cell_type": "markdown",
   "metadata": {},
   "source": [
    "### Explore Container\n",
    "\n",
    "Use the token to create a PyFileSystem object. You can explore the contents of the container using the get_file_info method. The PR100 data consists of geoparquet and geotiff files that are organized into directories:\n",
    "- Boundaries\n",
    "- Habitat\n",
    "- Hazards\n",
    "- Infrastructure\n",
    "- Topography"
   ]
  },
  {
   "cell_type": "code",
   "execution_count": null,
   "metadata": {},
   "outputs": [],
   "source": [
    "from pyarrow.fs import PyFileSystem, FSSpecHandler, FileSelector\n",
    "from adlfs import AzureBlobFileSystem\n",
    "\n",
    "# Create file system\n",
    "fs = PyFileSystem(\n",
    "    FSSpecHandler(\n",
    "        AzureBlobFileSystem('nrel', credential=token)\n",
    "    )\n",
    ")\n",
    "\n",
    "# View files in the 'Boundaries' directory\n",
    "fs.get_file_info(FileSelector('/oedi/PR100/Boundaries/'))"
   ]
  },
  {
   "attachments": {},
   "cell_type": "markdown",
   "metadata": {},
   "source": [
    "### Load Vector Data\n",
    "\n",
    "Let's load one of those files into a geodataframe and visualize it."
   ]
  },
  {
   "cell_type": "code",
   "execution_count": null,
   "metadata": {},
   "outputs": [],
   "source": [
    "import geopandas\n",
    "\n",
    "df = geopandas.read_parquet('oedi/PR100/Boundaries/land_protected_areas.parquet', filesystem=fs)\n",
    "df.explore()"
   ]
  },
  {
   "attachments": {},
   "cell_type": "markdown",
   "metadata": {},
   "source": [
    "### Load Raster Data\n",
    "\n",
    "If we look in the Topography directory, we'll see some tif files. These are cloud optimized GeoTiffs."
   ]
  },
  {
   "cell_type": "code",
   "execution_count": null,
   "metadata": {},
   "outputs": [],
   "source": [
    "fs.get_file_info(FileSelector('/oedi/PR100/Topography/'))"
   ]
  },
  {
   "attachments": {},
   "cell_type": "markdown",
   "metadata": {},
   "source": [
    "We can load these files with the rasterio package."
   ]
  },
  {
   "cell_type": "code",
   "execution_count": null,
   "metadata": {},
   "outputs": [],
   "source": [
    "import rasterio\n",
    "import rasterio.plot\n",
    "\n",
    "with fs.open_input_file('oedi/PR100/Topography/elevation.tif') as file:\n",
    "    raster = rasterio.open(file)\n",
    "    print(raster.meta)\n",
    "    rasterio.plot.show(raster, adjust=True)"
   ]
  },
  {
   "cell_type": "markdown",
   "metadata": {},
   "source": []
  }
 ],
 "metadata": {
  "kernelspec": {
   "display_name": "pr100-env",
   "language": "python",
   "name": "python3"
  },
  "language_info": {
   "codemirror_mode": {
    "name": "ipython",
    "version": 3
   },
   "file_extension": ".py",
   "mimetype": "text/x-python",
   "name": "python",
   "nbconvert_exporter": "python",
   "pygments_lexer": "ipython3",
   "version": "3.10.9"
  },
  "orig_nbformat": 4,
  "vscode": {
   "interpreter": {
    "hash": "d2e0ca302a5f5f673bd05f1fbb5f2420578af44ff0f5cef95f9f5d4b68b66ae3"
   }
  }
 },
 "nbformat": 4,
 "nbformat_minor": 2
}
