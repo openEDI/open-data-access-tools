{
 "cells": [
  {
   "attachments": {},
   "cell_type": "markdown",
   "metadata": {},
   "source": [
    "## Demo Notebook for Accessing PV Rooftop Data on Azure\n",
    "\n",
    "The National Renewable Energy Laboratory's (NREL) PV Rooftop Database (PVRDB) is a lidar-derived, geospatially-resolved dataset of suitable roof surfaces and their PV technical potential for 128 metropolitan regions in the United States. The source lidar data and building footprints were obtained by the U.S. Department of Homeland Security Homeland Security Infrastructure Program for 2006-2014. Using GIS methods, NREL identified suitable roof surfaces based on their size, orientation, and shading parameters Gagnon et al. (2016). Standard 2015 technical potential was then estimated for each plane using NREL's System Advisory Model.\n",
    "\n",
    "This notebook will demonstrate how to access the PV Rooftop data located in Azure BLOB storage."
   ]
  },
  {
   "attachments": {},
   "cell_type": "markdown",
   "metadata": {},
   "source": [
    "### Get Access Token\n",
    "\n",
    "You do not need an Azure account to access public data. Instead, you can obtain a temporary access token via the Planetary Computer's API. This can be accomplished via either the requests or planetary_computer libraries. Both options are shown below."
   ]
  },
  {
   "cell_type": "code",
   "execution_count": null,
   "metadata": {},
   "outputs": [],
   "source": [
    "# get a token with requests\n",
    "import requests\n",
    "\n",
    "token = requests.get(\n",
    "    'https://planetarycomputer.microsoft.com/api/sas/v1/token/nrel/oedi'\n",
    ").json()['token']"
   ]
  },
  {
   "cell_type": "code",
   "execution_count": null,
   "metadata": {},
   "outputs": [],
   "source": [
    "# get a token with planetary-computer\n",
    "import planetary_computer\n",
    "\n",
    "token = planetary_computer.sas.get_token('nrel', 'oedi').token"
   ]
  },
  {
   "attachments": {},
   "cell_type": "markdown",
   "metadata": {},
   "source": [
    "### Explore Container\n",
    "\n",
    "First, we use the token to create a PyFileSystem object. We can then use ParquetDataset objects to explore the metadata for each table. pv_rooftop consists of 4 tables:\n",
    "- buildings\n",
    "- aspects\n",
    "- developable-planes\n",
    "- rasd\n",
    "\n",
    "Each table is partitioned by city_year."
   ]
  },
  {
   "cell_type": "code",
   "execution_count": null,
   "metadata": {},
   "outputs": [],
   "source": [
    "from pyarrow.fs import PyFileSystem, FSSpecHandler\n",
    "from adlfs import AzureBlobFileSystem\n",
    "import pyarrow.parquet as pq\n",
    "\n",
    "# Create file system using token\n",
    "fs = PyFileSystem(\n",
    "    FSSpecHandler(\n",
    "        AzureBlobFileSystem('nrel', credential=token)\n",
    "    )\n",
    ")\n",
    "\n",
    "# Create ParquetDataset for the buildings table\n",
    "buildings_dataset = pq.ParquetDataset('oedi/pv-rooftop/buildings', filesystem=fs)\n",
    "\n",
    "# View the partition keys\n",
    "city_years = buildings_dataset.partitioning.dictionaries\n",
    "city_years\n"
   ]
  },
  {
   "cell_type": "code",
   "execution_count": null,
   "metadata": {},
   "outputs": [],
   "source": [
    "# View the schema for the buildings table\n",
    "buildings_dataset.schema"
   ]
  },
  {
   "attachments": {},
   "cell_type": "markdown",
   "metadata": {},
   "source": [
    "### Read Data\n",
    "\n",
    "pv_rooftop is a large data set. For the purposes of this example, we will read data from a single partition, city_year=albany_ny_13, and take a random sample of 100 buildings. We will read the tables directly into geodataframes. This may take several minutes."
   ]
  },
  {
   "cell_type": "code",
   "execution_count": null,
   "metadata": {},
   "outputs": [],
   "source": [
    "import pandas as pd\n",
    "import geopandas as gpd\n",
    "\n",
    "# Read the bldg_fid column from the buildings table and take a random sample of 100 buildings.\n",
    "bldg_fid_sample = pd.read_parquet(\n",
    "    'oedi/pv-rooftop/buildings',\n",
    "    filesystem=fs,\n",
    "    filters=[('city_year', '=', 'albany_ny_13')],\n",
    "    columns=['bldg_fid']\n",
    ").sample(100)['bldg_fid']"
   ]
  },
  {
   "cell_type": "code",
   "execution_count": null,
   "metadata": {},
   "outputs": [],
   "source": [
    "# Read buildings table using bldg_fid_sample as a filter\n",
    "buildings = gpd.read_parquet(\n",
    "    'oedi/pv-rooftop/buildings',\n",
    "    filesystem=fs,\n",
    "    filters=[\n",
    "        ('city_year', '=', 'albany_ny_13'),\n",
    "        ('bldg_fid', 'in', bldg_fid_sample)\n",
    "    ],\n",
    "    columns=['gid', 'city', 'state', 'year', 'bldg_fid', 'the_geom_4326']\n",
    ")"
   ]
  },
  {
   "cell_type": "code",
   "execution_count": null,
   "metadata": {},
   "outputs": [],
   "source": [
    "# Read aspects table using bldg_fid_sample as a filter\n",
    "aspects = gpd.read_parquet(\n",
    "    'oedi/pv-rooftop/aspects',\n",
    "    filesystem=fs,\n",
    "    filters=[\n",
    "        ('city_year', '=', 'albany_ny_13'),\n",
    "        ('bldg_fid', 'in', bldg_fid_sample)\n",
    "    ],\n",
    "    columns=['gid', 'city', 'state', 'year', 'bldg_fid', 'aspect', 'the_geom_4326']\n",
    ")\n",
    "\n",
    "# Add a column for the aspect_string\n",
    "aspect_lookup = {\n",
    "    0: 'flat',\n",
    "    1: 'north',\n",
    "    2: 'northeast',\n",
    "    3: 'east',\n",
    "    4: 'southeast',\n",
    "    5: 'south',\n",
    "    6: 'southwest',\n",
    "    7: 'west',\n",
    "    8: 'northwest'\n",
    "}\n",
    "aspects['aspect_string'] = aspects['aspect'].replace(aspect_lookup)"
   ]
  },
  {
   "cell_type": "code",
   "execution_count": null,
   "metadata": {},
   "outputs": [],
   "source": [
    "# Read developable-planes table using bldg_fid_sample as a filter\n",
    "developable_planes = gpd.read_parquet(\n",
    "    'oedi/pv-rooftop/developable-planes',\n",
    "    filesystem=fs,\n",
    "    filters=[\n",
    "        ('city_year', '=', 'albany_ny_13'),\n",
    "        ('bldg_fid', 'in', bldg_fid_sample)\n",
    "    ],\n",
    "    columns=['gid', 'city', 'state', 'year', 'bldg_fid', 'footprint_m2', 'slope', 'flatarea_m2', 'slopeconversion', 'slopearea_m2', 'aspect', 'the_geom_4326']\n",
    ")\n",
    "\n",
    "# Add a column for the aspect_string\n",
    "developable_planes['aspect_string'] = developable_planes['aspect'].replace(aspect_lookup)"
   ]
  },
  {
   "cell_type": "code",
   "execution_count": null,
   "metadata": {},
   "outputs": [],
   "source": [
    "# Read rasd table\n",
    "rasd = gpd.read_parquet(\n",
    "    'oedi/pv-rooftop/rasd',\n",
    "    filesystem=fs,\n",
    "    filters=[\n",
    "        ('city_year', '=', 'albany_ny_13')\n",
    "    ],\n",
    "    columns=['gid', 'city', 'state', 'year', 'the_geom_4326']\n",
    ")"
   ]
  },
  {
   "attachments": {},
   "cell_type": "markdown",
   "metadata": {},
   "source": [
    "### Visualize Data\n",
    "\n",
    "We are now ready to visualize the data using folium."
   ]
  },
  {
   "cell_type": "code",
   "execution_count": null,
   "metadata": {},
   "outputs": [],
   "source": [
    "import folium\n",
    "\n",
    "# Dictionary for coloring the polygons based on aspect\n",
    "color_dict = {\n",
    "    'flat':      'yellow',\n",
    "    'north':     'red',\n",
    "    'northeast': 'red',\n",
    "    'east':      'yellow',\n",
    "    'southeast': 'green',\n",
    "    'south':     'green',\n",
    "    'southwest': 'green',\n",
    "    'west':      'yellow',\n",
    "    'northwest': 'red'\n",
    "}\n",
    "color = aspects['aspect_string'].replace(color_dict)\n",
    "m = buildings.explore(color='gray', name='buildings')\n",
    "m = aspects.explore(m=m, name='aspects', color=color)\n",
    "m = developable_planes.explore(m=m, name='developable-planes', color=color)\n",
    "m = rasd.explore(m=m, name='rasd')\n",
    "folium.LayerControl().add_to(m)\n",
    "m"
   ]
  },
  {
   "attachments": {},
   "cell_type": "markdown",
   "metadata": {},
   "source": [
    "### Export Data\n",
    "\n",
    "There are many options for exporting the data for use in GIS software. Here, we demonstrate writing a geopackage."
   ]
  },
  {
   "cell_type": "code",
   "execution_count": null,
   "metadata": {},
   "outputs": [],
   "source": [
    "file_name = 'pv_rooftop_albany_ny_13.gpkg'\n",
    "buildings.to_file(file_name, layer='buildings', driver=\"GPKG\")\n",
    "aspects.to_file(file_name, layer='aspects', driver=\"GPKG\")\n",
    "developable_planes.to_file(file_name, layer='developable-planes', driver=\"GPKG\")\n",
    "rasd.to_file(file_name, layer='rasd', driver=\"GPKG\")"
   ]
  }
 ],
 "metadata": {
  "kernelspec": {
   "display_name": "oedi-env",
   "language": "python",
   "name": "python3"
  },
  "language_info": {
   "codemirror_mode": {
    "name": "ipython",
    "version": 3
   },
   "file_extension": ".py",
   "mimetype": "text/x-python",
   "name": "python",
   "nbconvert_exporter": "python",
   "pygments_lexer": "ipython3",
   "version": "3.10.9"
  },
  "orig_nbformat": 4,
  "vscode": {
   "interpreter": {
    "hash": "4c7bf1489743dc7ac4eb5d54993539996d2b573f88c885c7af86ecea3199729c"
   }
  }
 },
 "nbformat": 4,
 "nbformat_minor": 2
}
